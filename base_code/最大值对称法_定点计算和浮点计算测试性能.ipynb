{
 "cells": [
  {
   "cell_type": "markdown",
   "id": "c5734a50-6718-45c9-b17c-038d87c1cc90",
   "metadata": {},
   "source": [
    "## --- 最大值对称法\n",
    "\n",
    "### 定点计算和浮点数计算测试性能"
   ]
  },
  {
   "cell_type": "code",
   "execution_count": 17,
   "id": "6a36933f-caea-4d0d-9c36-dd70081ed337",
   "metadata": {},
   "outputs": [
    {
     "name": "stdout",
     "output_type": "stream",
     "text": [
      "原始数据: [-0.5124247   0.54156023  0.16993663 -0.28651538 -0.4935727   1.1646749\n",
      "  1.0023637  -1.0460062   0.8246637  -0.51910216]\n",
      "反量化后的数据: [-0.5085072   0.5404826   0.16770111 -0.28310442 -0.4911685   1.1646749\n",
      "  0.9999575  -1.0460061   0.82657075 -0.5171765 ]\n",
      "量化后的数据: [ 62 183 140  88  64 255 236   0 216  61]\n",
      "原始数据和反量化数据的均方误差: 5.205538855079794e-06\n"
     ]
    }
   ],
   "source": [
    "import sys\n",
    "import time\n",
    "import numpy as np\n",
    "\n",
    "# 随机生成一些浮点数 (float32)\n",
    "data_float32 = np.random.randn(10).astype(\"float32\")\n",
    "\n",
    "# 量化上下限\n",
    "Qmin = 0\n",
    "Qmax = 255\n",
    "\n",
    "# 计算缩放因子\n",
    "S = (data_float32.max() - data_float32.min()) / (Qmax - Qmin)\n",
    "\n",
    "# 计算零点\n",
    "Z = Qmax - data_float32.max() / S\n",
    "\n",
    "# 将浮点数据 (float32)量化为定点数据 (UInt8)\n",
    "data_uint8 = np.round(data_float32 / S + Z).astype(\"uint8\")\n",
    "\n",
    "# 将定点数据 (uint8 ) 反量化为浮点数据 (float32)\n",
    "data_float32_ = ((data_uint8 - Z) * S).astype(\"float32\")\n",
    "\n",
    "####### 误差计算\n",
    "# 使用均方误差计算误差\n",
    "mse = ((data_float32 - data_float32_)**2).mean()\n",
    "\n",
    "print(f\"原始数据: {data_float32}\")\n",
    "print(f\"反量化后的数据: {data_float32_}\")\n",
    "print(f\"量化后的数据: {data_uint8}\")\n",
    "print(f\"原始数据和反量化数据的均方误差: {mse}\")"
   ]
  },
  {
   "cell_type": "code",
   "execution_count": 18,
   "id": "025dabc7-87b1-4e6d-a0eb-548efe575d7f",
   "metadata": {},
   "outputs": [
    {
     "name": "stdout",
     "output_type": "stream",
     "text": [
      "\n",
      "内存对比\n",
      "空数据数据内存占用: 104 bytes\n",
      "原始数据内存占用: 40 bytes\n",
      "量化后的数据内存占用: 10 bytes\n",
      "量化数据和原始数据内存占比: 0.25 \n"
     ]
    }
   ],
   "source": [
    "############### 内存对比\n",
    "\n",
    "print(f\"\\n内存对比\")\n",
    "\n",
    "# 空数组的内存占用\n",
    "empty_size = sys.getsizeof(np.array([]))\n",
    "print(f\"空数据数据内存占用: {empty_size} bytes\")\n",
    "\n",
    "\n",
    "\n",
    "float32_size = sys.getsizeof(data_float32) - empty_size\n",
    "uint8_size = sys.getsizeof(data_uint8) - empty_size\n",
    "\n",
    "print(f\"原始数据内存占用: {float32_size} bytes\")\n",
    "print(f\"量化后的数据内存占用: {uint8_size} bytes\")\n",
    "print(f\"量化数据和原始数据内存占比: {uint8_size/float32_size} \")"
   ]
  },
  {
   "cell_type": "code",
   "execution_count": 21,
   "id": "f963a16e-59ce-4419-835d-d545e24fd8ad",
   "metadata": {},
   "outputs": [
    {
     "name": "stdout",
     "output_type": "stream",
     "text": [
      "速度占比\n",
      "\n",
      "原始数据求和  100000 次耗时 0.2520327568054199\n",
      "量化后数据求和  100000 次耗时 0.1900022029876709\n",
      "耗时减少的倍数: 0.7538790012695086\n"
     ]
    }
   ],
   "source": [
    "####### 速度占比\n",
    "\n",
    "print(f\"速度占比\\n\")\n",
    "\n",
    "repeat_num = 100000\n",
    "\n",
    "t_s = time.time()\n",
    "sum_float32 = 0\n",
    "for i in range(repeat_num):\n",
    "    sum_float32 += data_float32 * 1 + 1\n",
    "\n",
    "t_e = time.time()\n",
    "f32_time = t_e - t_s\n",
    "\n",
    "t_s = time.time()\n",
    "sum_uint8 = 0\n",
    "for i in range(repeat_num):\n",
    "    sum_uint8 += data_uint8 * 1 + 1\n",
    "t_e = time.time()\n",
    "uint8_time = t_e - t_s\n",
    "\n",
    "print(f\"原始数据求和  {repeat_num} 次耗时 {f32_time}\")\n",
    "print(f\"量化后数据求和  {repeat_num} 次耗时 {uint8_time}\")\n",
    "print(f\"耗时减少的倍数: {uint8_time / f32_time}\")"
   ]
  },
  {
   "cell_type": "code",
   "execution_count": null,
   "id": "fe9f4555-721e-47ab-9284-9acf7708bb54",
   "metadata": {},
   "outputs": [],
   "source": []
  }
 ],
 "metadata": {
  "kernelspec": {
   "display_name": "Python 3",
   "language": "python",
   "name": "python3"
  },
  "language_info": {
   "codemirror_mode": {
    "name": "ipython",
    "version": 3
   },
   "file_extension": ".py",
   "mimetype": "text/x-python",
   "name": "python",
   "nbconvert_exporter": "python",
   "pygments_lexer": "ipython3",
   "version": "3.8.8"
  }
 },
 "nbformat": 4,
 "nbformat_minor": 5
}
