{
 "cells": [
  {
   "cell_type": "code",
   "execution_count": 5,
   "id": "08c36ff8-501d-422e-8795-74599747c43c",
   "metadata": {},
   "outputs": [],
   "source": [
    "# 定点数\n",
    "# 线性映射\n",
    "    \n",
    "    ### 对称量化\n",
    "    ### 非对称量化\n",
    "\n",
    "# 非线性映射 DSQ\n",
    "# 非常抱歉，我理解有误。以下是一些关于非线性映射量化的学习资源：\n",
    "\n",
    "# 网站：\n",
    "# arXiv：https://arxiv.org/\n",
    "# IEEE Xplore：https://ieeexplore.ieee.org/\n",
    "# ACM Digital Library：https://dl.acm.org/\n",
    "# ScienceDirect：https://www.sciencedirect.com/\n",
    "# ResearchGate：https://www.researchgate.net/\n",
    "# Google Scholar：https://scholar.google.com/\n",
    "# GitHub：https://github.com/\n",
    "# 推荐论文：\n",
    "# \"Non-Linear Quantization for Deep Neural Networks\" by Suyog Gupta, Ankur Agrawal, Kailash Gopalakrishnan, Pritish Narayanan (arXiv)：https://arxiv.org/abs/1609.07061\n",
    "# \"Learning Nonlinear Quantization Maps for Near-Optimal Decision Making\" by Peter F. Christoffersen and David A. Castañón (IEEE Transactions on Neural Networks and Learning Systems)：https://ieeexplore.ieee.org/document/7445541\n",
    "# \"Nonlinear Compressed Sensing via Deep Neural Networks\" by Yiran Zhong and Shuchin Aeron (IEEE Transactions on Signal Processing)：https://ieeexplore.ieee.org/document/8808179\n",
    "# \"Nonlinear Mapping for Data Visualization: A Review\" by Elham Khabiri and Yvan J. Bédard (Journal of Visualization)：https://link.springer.com/article/10.1007/s12650-019-00597-x\n",
    "# \"Nonlinear Dimensionality Reduction and Visualization of High-Dimensional Data via Self-Organizing Maps\" by Teuvo Kohonen (Proceedings of the International Neural Network Conference)：https://link.springer.com/chapter/10.1007/3-540-44668-0_33\n",
    "# 希望这些资源能够帮助您学习非线性映射量化。"
   ]
  },
  {
   "cell_type": "code",
   "execution_count": 2,
   "id": "5279f2f0-9909-41ed-b758-682e3327b903",
   "metadata": {},
   "outputs": [
    {
     "name": "stdout",
     "output_type": "stream",
     "text": [
      "int8_x: 127.0\n"
     ]
    }
   ],
   "source": [
    "max_value = 127\n",
    "x = 0.612\n",
    "remainder = x / max_value\n",
    "int8_x = x / remainder\n",
    "print(f\"int8_x: {int8_x}\")"
   ]
  },
  {
   "cell_type": "code",
   "execution_count": 4,
   "id": "45169ce7-55be-4995-ace1-52e9a8fd6c74",
   "metadata": {},
   "outputs": [
    {
     "name": "stdout",
     "output_type": "stream",
     "text": [
      "f32_x: 0.612\n"
     ]
    }
   ],
   "source": [
    "# int8_x --> float\n",
    "\n",
    "f32_x = int8_x * remainder\n",
    "print(f\"f32_x: {f32_x}\")"
   ]
  },
  {
   "cell_type": "code",
   "execution_count": 21,
   "id": "864f2c16-a3a4-4ec5-9455-691d33fbb024",
   "metadata": {},
   "outputs": [],
   "source": [
    "# --- 对称量化"
   ]
  },
  {
   "cell_type": "code",
   "execution_count": 7,
   "id": "d89a2623-89ea-4ba1-a3ed-ffb428cb22dc",
   "metadata": {},
   "outputs": [],
   "source": [
    "import numpy as np"
   ]
  },
  {
   "cell_type": "code",
   "execution_count": 67,
   "id": "52f3c224-106f-4c0d-8335-480cca664ce3",
   "metadata": {},
   "outputs": [
    {
     "name": "stdout",
     "output_type": "stream",
     "text": [
      "[1.78862847 0.43650985 0.09649747]\n"
     ]
    }
   ],
   "source": [
    "np.random.seed(3)\n",
    "\n",
    "x = np.random.randn(3)\n",
    "print(x)"
   ]
  },
  {
   "cell_type": "code",
   "execution_count": 68,
   "id": "1c0e8812-0bf5-4699-9954-f65e56c8d316",
   "metadata": {},
   "outputs": [],
   "source": [
    "# np.round(x[1])  四舍五入"
   ]
  },
  {
   "cell_type": "code",
   "execution_count": 70,
   "id": "e9a13bbf-ffad-425d-b0b9-11809fa04022",
   "metadata": {},
   "outputs": [
    {
     "name": "stdout",
     "output_type": "stream",
     "text": [
      "x: [1.78862847 0.43650985 0.09649747] \n",
      "scale:0.0066619330919618506\n",
      "Q:[127.  66.  14.]\n",
      "R:[0.8460655  0.43968758 0.09326706]\n"
     ]
    }
   ],
   "source": [
    "# ---- 基础的对称量化法\n",
    "def get_scale(x):\n",
    "    scale = (np.max(x) - np.min(x)) / (127-(-127))\n",
    "    return scale\n",
    "\n",
    "def quant_x(x, scale):\n",
    "    q = np.round(x / scale)\n",
    "    return q\n",
    "\n",
    "def dequant_x(x, scale):\n",
    "    r = x * scale\n",
    "    return r\n",
    "\n",
    "def saturation_x(x):\n",
    "    x = np.clip(x, a_max=127, a_min=-128)\n",
    "    return x\n",
    "    \n",
    "print(f\"x: {x} \")    \n",
    "scale = get_scale(x)\n",
    "print(f\"scale:{scale}\")\n",
    "q = quant_x(x, scale)\n",
    "q = saturation_x(q)\n",
    "\n",
    "print(f\"Q:{q}\")\n",
    "\n",
    "R = dequant_x(q, scale)\n",
    "print(f\"R:{R}\")"
   ]
  },
  {
   "cell_type": "code",
   "execution_count": 71,
   "id": "de03832f-3fa0-4fd7-8c7e-cb919f01d003",
   "metadata": {},
   "outputs": [],
   "source": [
    "# 由此可见, 采用简单的对称量化，不进行偏移和最大值量化, 浮点数量化为 in8整数，可能会发生阶段;\n",
    "# 针对阶段带来的误差问题，我们可以采用 偏移和最大值量化解决；\n"
   ]
  },
  {
   "cell_type": "code",
   "execution_count": 72,
   "id": "709b0035-0705-4646-8c03-750233c0abe9",
   "metadata": {},
   "outputs": [
    {
     "name": "stdout",
     "output_type": "stream",
     "text": [
      "x: [1.78862847 0.43650985 0.09649747]\n",
      "scale:0.0066619330919618506\n",
      "Q:[268.  66.  14.]\n",
      "z: -141.0\n",
      "new_q: [127. 127. 127.]\n",
      "R:[-0.09326706 -0.09326706 -0.09326706]\n"
     ]
    }
   ],
   "source": [
    "# ---- 偏移法\n",
    "\n",
    "# np.round(x[1])  四舍五入\n",
    "\n",
    "def get_scale(x):\n",
    "    scale = (np.max(x) - np.min(x)) / (127-(-127))\n",
    "    return scale\n",
    "\n",
    "def quant_x(x, scale):\n",
    "    q = np.round(x / scale)\n",
    "    return q\n",
    "\n",
    "def compute_z(q, scale, r):\n",
    "    q = np.abs(q)\n",
    "    r = np.abs(r)\n",
    "    z = np.max(q) - saturation_x(np.max(r)/scale)\n",
    "    return -z\n",
    "\n",
    "def dequant_x(x, scale, z):\n",
    "    r = (x + z)* scale\n",
    "    return r\n",
    "\n",
    "def saturation_x(x):\n",
    "    x = np.clip(x, a_max=127, a_min=-128)\n",
    "    return x\n",
    "\n",
    "def get_new_q(x, scale, z):\n",
    "    return saturation_x(x / scale - z)\n",
    "    \n",
    "print(f\"x: {x}\")    \n",
    "scale = get_scale(x)\n",
    "print(f\"scale:{scale}\")\n",
    "q = quant_x(x, scale)\n",
    "print(f\"Q:{q}\")\n",
    "\n",
    "# z 是\n",
    "z = compute_z(q, scale, x)\n",
    "print(f\"z: {z}\")\n",
    "\n",
    "q = get_new_q(x, scale, z)\n",
    "print(f\"new_q: {q}\")\n",
    "\n",
    "R = dequant_x(q, scale, z)\n",
    "print(f\"R:{R}\")\n",
    "\n",
    "# 实现的有个小bug, 正负值情况没有考虑清楚"
   ]
  },
  {
   "cell_type": "code",
   "execution_count": 74,
   "id": "d1bb9d76-b8d1-442b-8fe0-1dc6be5807f2",
   "metadata": {},
   "outputs": [
    {
     "name": "stdout",
     "output_type": "stream",
     "text": [
      "x: [1.78862847 0.43650985 0.09649747]\n",
      "scale:0.007041844383583931\n",
      "Q:[254.  62.  14.]\n",
      "z: -127.0\n",
      "R:[1.78862847 0.43659435 0.09858582]\n"
     ]
    }
   ],
   "source": [
    "# ---- 最大绝对值法\n",
    "\n",
    "# np.round(x[1])  四舍五入\n",
    "\n",
    "def get_scale(x):\n",
    "    scale = (np.max(x)) / (2*127)\n",
    "    return scale\n",
    "\n",
    "def quant_x(x, scale):\n",
    "    q = np.round(x / scale)\n",
    "    return q\n",
    "\n",
    "def compute_z(q, scale, r):\n",
    "    q = np.abs(q)\n",
    "    r = np.abs(r)\n",
    "    z = np.max(q) - saturation_x(np.max(r)/scale)\n",
    "    return -z\n",
    "\n",
    "def dequant_x_offset(x, scale, z):\n",
    "    r = (x + z)* scale\n",
    "    return r\n",
    "\n",
    "def dequant_x(x, scale):\n",
    "    r = (x) * scale\n",
    "    return r\n",
    "\n",
    "def saturation_x(x):\n",
    "    x = np.clip(x, a_max=127, a_min=-128)\n",
    "    return x\n",
    "\n",
    "def get_new_q(x, scale, z):\n",
    "    return saturation_x(x / scale - z)\n",
    "    \n",
    "print(f\"x: {x}\")    \n",
    "scale = get_scale(x)\n",
    "print(f\"scale:{scale}\")\n",
    "q = quant_x(x, scale)\n",
    "print(f\"Q:{q}\")\n",
    "\n",
    "# z 是\n",
    "z = compute_z(q, scale, x)\n",
    "print(f\"z: {z}\")\n",
    "\n",
    "# q = get_new_q(x, scale, z)\n",
    "# print(f\"new_q: {q}\")\n",
    "\n",
    "R = dequant_x(q, scale)\n",
    "print(f\"R:{R}\")\n",
    "\n",
    "# 实现的有个小bug, 正负值情况没有考虑清楚"
   ]
  },
  {
   "cell_type": "code",
   "execution_count": null,
   "id": "15c0f3c7-c495-4fc4-b3a8-a4e0f23e6985",
   "metadata": {},
   "outputs": [],
   "source": []
  }
 ],
 "metadata": {
  "kernelspec": {
   "display_name": "Python 3",
   "language": "python",
   "name": "python3"
  },
  "language_info": {
   "codemirror_mode": {
    "name": "ipython",
    "version": 3
   },
   "file_extension": ".py",
   "mimetype": "text/x-python",
   "name": "python",
   "nbconvert_exporter": "python",
   "pygments_lexer": "ipython3",
   "version": "3.8.8"
  }
 },
 "nbformat": 4,
 "nbformat_minor": 5
}
